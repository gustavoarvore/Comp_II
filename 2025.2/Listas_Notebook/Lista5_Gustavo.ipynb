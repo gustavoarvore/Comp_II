{
 "cells": [
  {
   "cell_type": "markdown",
   "id": "f39610e6",
   "metadata": {},
   "source": [
    "# Lista 5\n",
    "### Aluno: Gustavo Machado | DRE: 122115709"
   ]
  },
  {
   "cell_type": "markdown",
   "id": "1c34ead1",
   "metadata": {},
   "source": [
    "## 1. Conversão de Velocidade"
   ]
  },
  {
   "cell_type": "code",
   "execution_count": 18,
   "id": "96717ddb",
   "metadata": {},
   "outputs": [
    {
     "name": "stdout",
     "output_type": "stream",
     "text": [
      "10.0 nós equivalem a 5.14 m/s\n",
      "None\n"
     ]
    }
   ],
   "source": [
    "def conversao_velocidade():\n",
    "    try:\n",
    "        nos = input('Digite a velocidade em nós: ')\n",
    "        if not nos.isnumeric():\n",
    "            raise ValueError('Erro: valor não é numérico!')\n",
    "        nos = float(nos)\n",
    "        if nos < 0:\n",
    "            raise ValueError('Erro: valor deve ser positiva!')\n",
    "        ms = nos * 0.51444\n",
    "        print(f'{nos} nós equivalem a {ms:.2f} m/s')\n",
    "    except ValueError as e:\n",
    "        print(f'{e}')\n",
    "\n",
    "print(conversao_velocidade())"
   ]
  },
  {
   "cell_type": "markdown",
   "id": "7337ef1e",
   "metadata": {},
   "source": [
    "## 2. Cálculo de Deslocamento de um Navio"
   ]
  },
  {
   "cell_type": "code",
   "execution_count": 19,
   "id": "b6778884",
   "metadata": {},
   "outputs": [
    {
     "name": "stdout",
     "output_type": "stream",
     "text": [
      "O deslocamento do navio é: 434.78 m^3\n",
      "Cálculo de deslocamento finalizado!\n"
     ]
    }
   ],
   "source": [
    "def calculo_deslocamento(massa, densidade):\n",
    "    if massa <= 0:\n",
    "        raise ValueError('Erro: A massa deve ser diferente de zero')\n",
    "    if densidade <= 0:\n",
    "        raise ValueError('Erro: A densidade deve ser diferente de zero')\n",
    "    return (massa * 1000) / densidade\n",
    "\n",
    "try:\n",
    "    massa = float(input('Digite a massa do navio (tons): '))\n",
    "    densidade = float(input('Digite a densidade da água (kg/m^3): '))\n",
    "    deslocamento = calculo_deslocamento(massa, densidade)\n",
    "except ValueError as e:\n",
    "    print(f'{e}')\n",
    "else:\n",
    "    print(f'O deslocamento do navio é: {deslocamento:.2f} m^3')\n",
    "finally:\n",
    "    print('Cálculo de deslocamento finalizado!')"
   ]
  },
  {
   "cell_type": "markdown",
   "id": "1c897538",
   "metadata": {},
   "source": [
    "## 3. Leitura de Profundidade com Múltiplos"
   ]
  },
  {
   "cell_type": "code",
   "execution_count": 21,
   "id": "8af6d99b",
   "metadata": {},
   "outputs": [
    {
     "name": "stdout",
     "output_type": "stream",
     "text": [
      "Profundidade do sonar: 10000m\n"
     ]
    }
   ],
   "source": [
    "try:\n",
    "    profundidade = int(input('Digite a profundidade (metros): '))\n",
    "    if profundidade > 11000:\n",
    "        raise ValueError('Erro: Profundidade máxima excedida!')\n",
    "    print(f'Profundidade do sonar: {profundidade}m')\n",
    "except Exception:\n",
    "    print('Erro: Valor inválido!')\n",
    "except ValueError:\n",
    "    print('Erro: Valor excede a profundidade máxima!')"
   ]
  },
  {
   "cell_type": "markdown",
   "id": "b7c99d4d",
   "metadata": {},
   "source": [
    "## 4. Cálculo de Média de Temperatura"
   ]
  },
  {
   "cell_type": "code",
   "execution_count": 24,
   "id": "61afbca1",
   "metadata": {},
   "outputs": [
    {
     "name": "stdout",
     "output_type": "stream",
     "text": [
      "Entrada inválida! Por favor, digite um número ou a palavrinha mágica.\n",
      "Média das temperaturas válidas: 13.33°C\n"
     ]
    }
   ],
   "source": [
    "def calculo_media_temp():\n",
    "    temperaturas = []\n",
    "    while True:\n",
    "        entrada = input('Temperatura: ')\n",
    "        if entrada.lower() == 'fim':\n",
    "            break\n",
    "        try:\n",
    "            temp = float(entrada)\n",
    "        except ValueError:\n",
    "            print('Entrada inválida! Por favor, digite um número ou a palavrinha mágica.')\n",
    "        else:\n",
    "            temperaturas.append(temp)\n",
    "        finally:\n",
    "            pass \n",
    "    if temperaturas:\n",
    "        media = sum(temperaturas) / len(temperaturas)\n",
    "        print(f'Média das temperaturas válidas: {media:.2f}°C')\n",
    "    else:\n",
    "        print('Nenhuma temperatura válida foi inserida.')\n",
    "if __name__ == '__main__':\n",
    "    calculo_media_temp()"
   ]
  },
  {
   "cell_type": "markdown",
   "id": "dab7ad47",
   "metadata": {},
   "source": [
    "## Obs: !!!Monitor, meu vscode e a versão do python atualizaram e por isso não está printando os inputs abaixo dos códigos.!!!"
   ]
  }
 ],
 "metadata": {
  "kernelspec": {
   "display_name": "venv",
   "language": "python",
   "name": "python3"
  },
  "language_info": {
   "codemirror_mode": {
    "name": "ipython",
    "version": 3
   },
   "file_extension": ".py",
   "mimetype": "text/x-python",
   "name": "python",
   "nbconvert_exporter": "python",
   "pygments_lexer": "ipython3",
   "version": "3.10.10"
  }
 },
 "nbformat": 4,
 "nbformat_minor": 5
}
