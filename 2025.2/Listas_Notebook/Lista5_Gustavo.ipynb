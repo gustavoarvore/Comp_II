{
 "cells": [
  {
   "cell_type": "markdown",
   "id": "f39610e6",
   "metadata": {},
   "source": [
    "# Lista 5\n",
    "### Aluno: Gustavo Machado | DRE: 122115709"
   ]
  },
  {
   "cell_type": "markdown",
   "id": "1c34ead1",
   "metadata": {},
   "source": [
    "## 1. Conversão de Velocidade"
   ]
  },
  {
   "cell_type": "code",
   "execution_count": null,
   "id": "96717ddb",
   "metadata": {},
   "outputs": [],
   "source": [
    "def conversao_velocidade():\n",
    "    try:\n",
    "        nos = input(\"Digite a velocidade em nós: \")\n",
    "        if not nos.isnumeric():\n",
    "            raise ValueError(\"Erro: valor não é numérico!\")\n",
    "        nos = float(nos)\n",
    "        if nos < 0:\n",
    "            raise ValueError(\"Erro: valor deve ser positiva!\")\n",
    "        ms = nos * 0.51444\n",
    "        print(f\"{nos} nós equivalem a {ms:.2f} m/s\")\n",
    "    except ValueError as e:\n",
    "        print(f'Erro: {e}')\n",
    "\n",
    "print(conversao_velocidade())"
   ]
  },
  {
   "cell_type": "markdown",
   "id": "7337ef1e",
   "metadata": {},
   "source": [
    "## 2. Cálculo de Deslocamento de um Navio"
   ]
  },
  {
   "cell_type": "code",
   "execution_count": null,
   "id": "b6778884",
   "metadata": {},
   "outputs": [],
   "source": []
  },
  {
   "cell_type": "markdown",
   "id": "1c897538",
   "metadata": {},
   "source": [
    "## 3. Leitura de Profundidade com Múltiplos"
   ]
  },
  {
   "cell_type": "code",
   "execution_count": null,
   "id": "8af6d99b",
   "metadata": {},
   "outputs": [],
   "source": []
  },
  {
   "cell_type": "markdown",
   "id": "b7c99d4d",
   "metadata": {},
   "source": [
    "## 4. Cálculo de Média de Temperatura"
   ]
  },
  {
   "cell_type": "code",
   "execution_count": null,
   "id": "61afbca1",
   "metadata": {},
   "outputs": [],
   "source": []
  }
 ],
 "metadata": {
  "kernelspec": {
   "display_name": "venv",
   "language": "python",
   "name": "python3"
  },
  "language_info": {
   "name": "python",
   "version": "3.10.10"
  }
 },
 "nbformat": 4,
 "nbformat_minor": 5
}
