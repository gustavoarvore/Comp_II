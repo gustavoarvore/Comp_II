{
 "cells": [
  {
   "cell_type": "markdown",
   "id": "f39610e6",
   "metadata": {},
   "source": [
    "# Lista 5\n",
    "### Aluno: Gustavo Machado | DRE: 122115709"
   ]
  },
  {
   "cell_type": "markdown",
   "id": "1c34ead1",
   "metadata": {},
   "source": [
    "## 1. Conversão de Velocidade"
   ]
  },
  {
   "cell_type": "code",
   "execution_count": null,
   "id": "96717ddb",
   "metadata": {
    "vscode": {
     "languageId": "plaintext"
    }
   },
   "outputs": [],
   "source": []
  },
  {
   "cell_type": "markdown",
   "id": "7337ef1e",
   "metadata": {},
   "source": [
    "## 2. Cálculo de Deslocamento de um Navio"
   ]
  },
  {
   "cell_type": "code",
   "execution_count": null,
   "id": "b6778884",
   "metadata": {
    "vscode": {
     "languageId": "plaintext"
    }
   },
   "outputs": [],
   "source": []
  },
  {
   "cell_type": "markdown",
   "id": "1c897538",
   "metadata": {},
   "source": [
    "## 3. Leitura de Profundidade com Múltiplos"
   ]
  },
  {
   "cell_type": "code",
   "execution_count": null,
   "id": "8af6d99b",
   "metadata": {
    "vscode": {
     "languageId": "plaintext"
    }
   },
   "outputs": [],
   "source": []
  },
  {
   "cell_type": "markdown",
   "id": "b7c99d4d",
   "metadata": {},
   "source": [
    "## 4. Cálculo de Média de Temperatura"
   ]
  },
  {
   "cell_type": "code",
   "execution_count": null,
   "id": "61afbca1",
   "metadata": {
    "vscode": {
     "languageId": "plaintext"
    }
   },
   "outputs": [],
   "source": []
  }
 ],
 "metadata": {
  "language_info": {
   "name": "python"
  }
 },
 "nbformat": 4,
 "nbformat_minor": 5
}
