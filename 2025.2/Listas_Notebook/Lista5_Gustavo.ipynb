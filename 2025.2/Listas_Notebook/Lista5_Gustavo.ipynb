{
 "cells": [
  {
   "cell_type": "markdown",
   "id": "f39610e6",
   "metadata": {},
   "source": [
    "# Lista 5\n",
    "### Aluno: Gustavo Machado | DRE: 122115709"
   ]
  },
  {
   "cell_type": "markdown",
   "id": "1c34ead1",
   "metadata": {},
   "source": [
    "## "
   ]
  }
 ],
 "metadata": {
  "language_info": {
   "name": "python"
  }
 },
 "nbformat": 4,
 "nbformat_minor": 5
}
