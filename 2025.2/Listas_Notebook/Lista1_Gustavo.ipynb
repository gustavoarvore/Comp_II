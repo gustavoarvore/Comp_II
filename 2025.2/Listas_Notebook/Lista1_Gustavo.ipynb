{
  "cells": [
    {
      "cell_type": "markdown",
      "metadata": {
        "colab_type": "text",
        "id": "view-in-github"
      },
      "source": [
        "<a href=\"https://colab.research.google.com/github/gustavoarvore/Comp_II/blob/main/Lista1_Gustavo.ipynb\" target=\"_parent\"><img src=\"https://colab.research.google.com/assets/colab-badge.svg\" alt=\"Open In Colab\"/></a>"
      ]
    },
    {
      "cell_type": "code",
      "execution_count": 1,
      "metadata": {
        "colab": {
          "base_uri": "https://localhost:8080/"
        },
        "id": "Et0NNf1F_I5F",
        "outputId": "7f806802-cdb0-4aac-d649-bbd14ed79d7a"
      },
      "outputs": [
        {
          "name": "stdout",
          "output_type": "stream",
          "text": [
            "50.0\n",
            "25.0\n",
            "25.0\n",
            "None\n"
          ]
        }
      ],
      "source": [
        "#Questão 1\n",
        "\n",
        "def calcular_combustivel():\n",
        "\n",
        "    for i in range(3):\n",
        "\n",
        "        x = 500, 300, 200\n",
        "        y = 10, 12, 8\n",
        "\n",
        "        print(x[i]/y[i])\n",
        "\n",
        "print(calcular_combustivel())"
      ]
    },
    {
      "cell_type": "code",
      "execution_count": 4,
      "metadata": {
        "colab": {
          "base_uri": "https://localhost:8080/"
        },
        "id": "bSinze4X_Iuy",
        "outputId": "04218970-56e2-4511-8a04-d41d30cc4386"
      },
      "outputs": [
        {
          "name": "stdout",
          "output_type": "stream",
          "text": [
            "Digite a tarefa: jogar\n",
            "Não esta na lista\n",
            "Deseja continar ? (s/n):s\n",
            "Digite a tarefa: andar\n",
            "Esta na lista\n",
            "Deseja continar ? (s/n):n\n",
            "None\n"
          ]
        }
      ],
      "source": [
        "#Questão 2\n",
        "\n",
        "def verificar_tarefa():\n",
        "\n",
        "    while True:\n",
        "\n",
        "        lista = [\"andar\", \"comer\", \"dormir\"]\n",
        "        tarefa = (input(\"Digite a tarefa: \"))\n",
        "\n",
        "        if tarefa in lista:\n",
        "            print(\"Esta na lista\")\n",
        "        else:\n",
        "            print(\"Não esta na lista\")\n",
        "\n",
        "        continuar = input(\"Deseja continar ? (s/n):\").strip().lower()\n",
        "        if continuar != 's':\n",
        "            break\n",
        "\n",
        "print(verificar_tarefa())"
      ]
    },
    {
      "cell_type": "code",
      "execution_count": 10,
      "metadata": {
        "colab": {
          "base_uri": "https://localhost:8080/"
        },
        "id": "KerrLL-n_Ija",
        "outputId": "213cdccd-7aa0-4574-db98-b0fd1882b9eb"
      },
      "outputs": [
        {
          "name": "stdout",
          "output_type": "stream",
          "text": [
            "digite o item: arroz\n",
            "arroz já tem na lista\n",
            "Deseja continuar adicionando itens à lista? (s/n)s\n",
            "digite o item: banna\n",
            "['arroz', 'feijao', 'leite', 'banna']\n",
            "Deseja continuar adicionando itens à lista? (s/n)n\n",
            "None\n"
          ]
        }
      ],
      "source": [
        "#Questão 3\n",
        "\n",
        "def adiciona_item():\n",
        "\n",
        "    while True:\n",
        "\n",
        "        lista = [\"arroz\", \"feijao\", \"leite\"]\n",
        "        item = input(\"digite o item: \")\n",
        "\n",
        "        if item in lista:\n",
        "            print(f'{item} já tem na lista')\n",
        "        else:\n",
        "            lista.append(item)\n",
        "            print(lista)\n",
        "        continuar = input(\"Deseja continuar adicionando itens à lista? (s/n)\").strip().lower()\n",
        "        if continuar != 's':\n",
        "            break\n",
        "\n",
        "print(adiciona_item())"
      ]
    },
    {
      "cell_type": "code",
      "execution_count": 6,
      "metadata": {
        "colab": {
          "base_uri": "https://localhost:8080/"
        },
        "id": "99blhRTo_IU3",
        "outputId": "55dae5d3-3699-470d-af11-7a06cffc25f6"
      },
      "outputs": [
        {
          "name": "stdout",
          "output_type": "stream",
          "text": [
            "maçã: 2\n",
            "banana: 3\n",
            "laranja: 1\n",
            "None\n"
          ]
        }
      ],
      "source": [
        "#Questão 4\n",
        "\n",
        "def contar_palavras():\n",
        "\n",
        "    lista_1 = [\"maçã\", \"banana\", \"maçã\", \"laranja\", \"banana\", \"banana\"]\n",
        "    lista_2 = []\n",
        "\n",
        "    for item in lista_1:\n",
        "        if item not in lista_2:\n",
        "            lista_2.append(item)\n",
        "            print(f'{item}: {lista_1.count(item)}')\n",
        "\n",
        "print(contar_palavras())"
      ]
    },
    {
      "cell_type": "code",
      "execution_count": 12,
      "metadata": {
        "colab": {
          "base_uri": "https://localhost:8080/"
        },
        "id": "QVMGRash_Wen",
        "outputId": "de64d784-944f-41fa-90b8-d6a46b3bc648"
      },
      "outputs": [
        {
          "name": "stdout",
          "output_type": "stream",
          "text": [
            "Digite a idade: 61\n",
            "Adulto\n"
          ]
        }
      ],
      "source": [
        "#Questão 5\n",
        "\n",
        "def classficiar_idade():\n",
        "\n",
        "    idade = int(input(\"Digite a idade: \"))\n",
        "\n",
        "    if idade<12:\n",
        "        return \"Criança\"\n",
        "    elif idade <=17 and idade >= 12:\n",
        "        return \"Adolescente\"\n",
        "    elif idade <=64 and idade >= 18:\n",
        "        return \"Adulto\"\n",
        "    else:\n",
        "        return \"Idoso\"\n",
        "\n",
        "print(classficiar_idade())"
      ]
    },
    {
      "cell_type": "code",
      "execution_count": 13,
      "metadata": {
        "colab": {
          "base_uri": "https://localhost:8080/"
        },
        "id": "2ZWO_wOa_WXi",
        "outputId": "479fa3a6-577f-41e4-a85b-e7b9fddf2421"
      },
      "outputs": [
        {
          "name": "stdout",
          "output_type": "stream",
          "text": [
            "Digite o valor: 1450\n",
            "R$ 1160.0\n"
          ]
        }
      ],
      "source": [
        "#Questão 6\n",
        "\n",
        "def calcular_desconto():\n",
        "\n",
        "    valor = float(input(\"Digite o valor: \"))\n",
        "\n",
        "    if valor <= 100:\n",
        "        desconto = valor * 0.05\n",
        "    elif valor <= 500 and valor > 100:\n",
        "        desconto = valor * 0.10\n",
        "    elif valor <+ 1000 and valor >500:\n",
        "        desconto = valor *0.15\n",
        "    else:\n",
        "        desconto = valor * 0.20\n",
        "\n",
        "    valor_final = valor - desconto\n",
        "    return f'R$ {valor_final}'\n",
        "\n",
        "print(calcular_desconto())"
      ]
    },
    {
      "cell_type": "code",
      "execution_count": 14,
      "metadata": {
        "colab": {
          "base_uri": "https://localhost:8080/"
        },
        "id": "RgVm4rgz_WQg",
        "outputId": "83b53368-c476-4a6d-8a0c-cac07db04f18"
      },
      "outputs": [
        {
          "name": "stdout",
          "output_type": "stream",
          "text": [
            "Insira um Número: 6\n",
            "6\n",
            "5\n",
            "4\n",
            "3\n",
            "2\n",
            "1\n",
            "Fim da contagem!\n",
            "None\n"
          ]
        }
      ],
      "source": [
        "#Quesão 7\n",
        "\n",
        "def contagem_regressiva():\n",
        "\n",
        "    n = int(input(\"Insira um Número: \"))\n",
        "\n",
        "    while n > 0:\n",
        "        print(n)\n",
        "        n -= 1\n",
        "    print(\"Fim da contagem!\")\n",
        "\n",
        "print(contagem_regressiva())"
      ]
    },
    {
      "cell_type": "code",
      "execution_count": 15,
      "metadata": {
        "colab": {
          "base_uri": "https://localhost:8080/"
        },
        "id": "dtCYC_pU_WJJ",
        "outputId": "14a4c010-0eae-4b46-da56-3342d62bdb78"
      },
      "outputs": [
        {
          "name": "stdout",
          "output_type": "stream",
          "text": [
            "Digite a média: 7\n",
            "Digite a nota do estudante 1: 8\n",
            "Digite a nota do estudante 2: 5\n",
            "Digite a nota do estudante 3: 1\n",
            "Digite a nota do estudante 4: 7\n",
            "Digite a nota do estudante 5: 8\n",
            "{'aprovado': 3, 'reprovado': 2}\n"
          ]
        }
      ],
      "source": [
        "#Quesão 8\n",
        "\n",
        "def classifica_estudantes():\n",
        "\n",
        "    notas = []\n",
        "    media = float(input(\"Digite a média: \"))\n",
        "\n",
        "    for i in range(5):\n",
        "        nota = float(input(f\"Digite a nota do estudante {i+1}: \"))\n",
        "        notas.append(nota)\n",
        "\n",
        "        aprovados = []\n",
        "        reprovados = []\n",
        "\n",
        "    for i, nota in enumerate(notas):\n",
        "        if nota >= media:\n",
        "            aprovados.append(f\"Estudante {i+1} aprovado com nota {nota}\")\n",
        "        else:\n",
        "            reprovados.append(f\"Estudante {i+1} reprovado com nota {nota}\")\n",
        "    return {\n",
        "        \"aprovado\": len(aprovados),\n",
        "        \"reprovado\": len(reprovados)\n",
        "    }\n",
        "\n",
        "print(classifica_estudantes())"
      ]
    },
    {
      "cell_type": "code",
      "execution_count": 16,
      "metadata": {
        "colab": {
          "base_uri": "https://localhost:8080/"
        },
        "id": "sfxKlnF0_WBO",
        "outputId": "e3dbaa2c-6696-4309-c740-7779d3a25423"
      },
      "outputs": [
        {
          "name": "stdout",
          "output_type": "stream",
          "text": [
            "Digite a idade: 12\n",
            "Acesso restrito às atrações para menores de idade.\n",
            "Deseja verificar o acesso para mais pessoas? (s/n): s\n",
            "Digite a idade: 27\n",
            "Acesso permitido a todas as atrações.\n",
            "Deseja verificar o acesso para mais pessoas? (s/n): n\n",
            "None\n"
          ]
        }
      ],
      "source": [
        "#Questao 9\n",
        "\n",
        "def verificar_acesso():\n",
        "    while True:\n",
        "        idade = int(input(\"Digite a idade: \"))\n",
        "        if idade >= 18:\n",
        "            print(\"Acesso permitido a todas as atrações.\")\n",
        "        else:\n",
        "            print('Acesso restrito às atrações para menores de idade.')\n",
        "        continuar = input(\"Deseja verificar o acesso para mais pessoas? (s/n): \").strip().lower()\n",
        "        if continuar != 's':\n",
        "            break\n",
        "\n",
        "print(verificar_acesso())"
      ]
    },
    {
      "cell_type": "code",
      "execution_count": 18,
      "metadata": {
        "colab": {
          "base_uri": "https://localhost:8080/"
        },
        "id": "SJ9jKW8-_V4Q",
        "outputId": "6ac48a79-68e7-4c71-ac1b-f778b8aebe8e"
      },
      "outputs": [
        {
          "name": "stdout",
          "output_type": "stream",
          "text": [
            "Digite a senha: 5d64\n",
            "Senha inválida! Deve conter pelo menos 8 caracteres.\n",
            "Digite a senha: 25dfdf\n",
            "Senha inválida! Deve conter pelo menos 8 caracteres.\n",
            "Digite a senha: 485\n",
            "Senha inválida! Deve conter pelo menos 8 caracteres.\n",
            "Número de tentativas excedido.\n",
            "None\n"
          ]
        }
      ],
      "source": [
        "#Questão 10\n",
        "\n",
        "def verifica_senha():\n",
        "    tentativas = 0\n",
        "    while tentativas < 3:\n",
        "        senha = input(\"Digite a senha: \")\n",
        "        if len(senha) >= 8:\n",
        "            print(\"Senha aceita.\")\n",
        "            return\n",
        "        else:\n",
        "            print(\"Senha inválida! Deve conter pelo menos 8 caracteres.\")\n",
        "            tentativas += 1\n",
        "    print(\"Número de tentativas excedido.\")\n",
        "\n",
        "print(verifica_senha())"
      ]
    }
  ],
  "metadata": {
    "colab": {
      "authorship_tag": "ABX9TyMQkQ7d1QF9dlubprHMUvtU",
      "include_colab_link": true,
      "provenance": []
    },
    "kernelspec": {
      "display_name": "Python 3",
      "name": "python3"
    },
    "language_info": {
      "name": "python"
    }
  },
  "nbformat": 4,
  "nbformat_minor": 0
}
