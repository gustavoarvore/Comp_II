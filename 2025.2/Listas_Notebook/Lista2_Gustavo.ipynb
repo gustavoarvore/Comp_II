{
 "cells": [
  {
   "cell_type": "code",
   "execution_count": null,
   "id": "fff0318f",
   "metadata": {
    "vscode": {
     "languageId": "plaintext"
    }
   },
   "outputs": [],
   "source": [
    "#Questão: Sistema de Temperatura\n",
    "\n",
    "class termometro:\n",
    "    def __init__(self, temperatura):\n",
    "        self.temperatura = float(temperatura)\n",
    "\n",
    "    def converter_fahrenheit(self):\n",
    "        return (self.temperatura * 9/5 + 32)\n",
    "\n",
    "    def converter_kelvin(self):\n",
    "        return (self.temperatura + 273.15)\n",
    "\n",
    "    def verificar_estado(self):\n",
    "        if self.temperatura < 0:\n",
    "            return \"Sólido\"\n",
    "        elif self.temperatura >= 0 and self.temperatura <= 100:\n",
    "            return \"Líquido\"\n",
    "        else:   \n",
    "            return \"Gasoso\"\n",
    "\n",
    "termometro1 = termometro(input(\"Digite a Temperatura: \"))\n",
    "print(f'A temperatura em Fahrenreit é {termometro1.converter_fahrenheit()}°F')\n",
    "print(f'A temperatura em Kelvin é {termometro1.converter_kelvin()}°K')\n",
    "print(f'O estado da água nessa temperatura é {termometro1.verificar_estado()}')"
   ]
  },
  {
   "cell_type": "code",
   "execution_count": null,
   "id": "5e179d2c",
   "metadata": {
    "vscode": {
     "languageId": "plaintext"
    }
   },
   "outputs": [],
   "source": []
  },
  {
   "cell_type": "code",
   "execution_count": null,
   "id": "6875b756",
   "metadata": {
    "vscode": {
     "languageId": "plaintext"
    }
   },
   "outputs": [],
   "source": []
  },
  {
   "cell_type": "code",
   "execution_count": null,
   "id": "a2f83dcc",
   "metadata": {
    "vscode": {
     "languageId": "plaintext"
    }
   },
   "outputs": [],
   "source": []
  },
  {
   "cell_type": "code",
   "execution_count": null,
   "id": "ce79bd02",
   "metadata": {
    "vscode": {
     "languageId": "plaintext"
    }
   },
   "outputs": [],
   "source": []
  },
  {
   "cell_type": "code",
   "execution_count": null,
   "id": "45078500",
   "metadata": {
    "vscode": {
     "languageId": "plaintext"
    }
   },
   "outputs": [],
   "source": []
  }
 ],
 "metadata": {
  "language_info": {
   "name": "python"
  }
 },
 "nbformat": 4,
 "nbformat_minor": 5
}
