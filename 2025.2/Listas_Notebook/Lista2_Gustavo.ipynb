{
  "cells": [
    {
      "cell_type": "code",
      "execution_count": 4,
      "id": "3378ab00",
      "metadata": {
        "colab": {
          "base_uri": "https://localhost:8080/"
        },
        "id": "3378ab00",
        "outputId": "25e6ad6d-f64c-47e5-fc6c-869680a7b0ea"
      },
      "outputs": [
        {
          "name": "stdout",
          "output_type": "stream",
          "text": [
            "Digite a Temperatura: 0\n",
            "A temperatura em Fahrenreit é 32.0°F\n",
            "A temperatura em Kelvin é 273.15°K\n",
            "O estado da água nessa temperatura é Líquido\n"
          ]
        }
      ],
      "source": [
        "#Questão: Sistema de Temperatura\n",
        "\n",
        "class termometro:\n",
        "    def __init__(self, temperatura):\n",
        "        self.temperatura = float(temperatura)\n",
        "\n",
        "    def converter_fahrenheit(self):\n",
        "        return (self.temperatura * 9/5 + 32)\n",
        "\n",
        "    def converter_kelvin(self):\n",
        "        return (self.temperatura + 273.15)\n",
        "\n",
        "    def verificar_estado(self):\n",
        "        if self.temperatura < 0:\n",
        "            return \"Sólido\"\n",
        "        elif self.temperatura >= 0 and self.temperatura <= 100:\n",
        "            return \"Líquido\"\n",
        "        else:\n",
        "            return \"Gasoso\"\n",
        "\n",
        "termometro1 = termometro(input(\"Digite a Temperatura: \"))\n",
        "print(f'A temperatura em Fahrenreit é {termometro1.converter_fahrenheit()}°F')\n",
        "print(f'A temperatura em Kelvin é {termometro1.converter_kelvin()}°K')\n",
        "print(f'O estado da água nessa temperatura é {termometro1.verificar_estado()}')"
      ]
    },
    {
      "cell_type": "code",
      "execution_count": null,
      "id": "f4a9d53d",
      "metadata": {
        "colab": {
          "base_uri": "https://localhost:8080/"
        },
        "id": "f4a9d53d",
        "outputId": "30475bf7-a2d4-4c5b-899e-8fbf303efd7e"
      },
      "outputs": [
        {
          "name": "stdout",
          "output_type": "stream",
          "text": [
            "A média do aluno é: 5.5\n",
            "O(A) Aluno(a) Gustavo foi Reprovado(a) com média 5.5\n",
            "Nome: Gustavo, Notas: 2.0, 6.5, 8.0, Média: 5.5\n",
            "Notas Atualizadas: 2, 4, 5\n",
            "\n",
            "A média do aluno é: 7.233333333333333\n",
            "O(A) Aluno(a) Sara foi Aprovado(a) com média 7.233333333333333\n",
            "Nome: Sara, Notas: 7.2, 8.5, 6.0, Média: 7.233333333333333\n",
            "Notas Atualizadas: 10, 9, 5\n",
            "\n"
          ]
        }
      ],
      "source": [
        "#Questão: Estudante\n",
        "\n",
        "class estudante:\n",
        "    def __init__(self, nome, nota1, nota2, nota3, media=0):\n",
        "        self.nome = nome\n",
        "        self.nota1 = float(nota1)\n",
        "        self.nota2 = float(nota2)\n",
        "        self.nota3 = float(nota3)\n",
        "        self.media = float(nota1+nota2+nota3)\n",
        "\n",
        "    def calcular_media(self):\n",
        "        return (self.media/3)\n",
        "\n",
        "    def verificar_aprovacao(self):\n",
        "        if self.calcular_media() >= 7:\n",
        "            print(f\"O(A) Aluno(a) {self.nome} foi Aprovado(a) com média {self.calcular_media()}\")\n",
        "        else:\n",
        "            print(f\"O(A) Aluno(a) {self.nome} foi Reprovado(a) com média {self.calcular_media()}\")\n",
        "\n",
        "    def atualizar_notas(self, nota1_1, nota2_2, nota3_3):\n",
        "        self.nota1_1 = nota1_1\n",
        "        self.nota2_2 = nota2_2\n",
        "        self.nota3_3 = nota3_3\n",
        "        print(f'Notas Atualizadas: {self.nota1_1}, {self.nota2_2}, {self.nota3_3}\\n')\n",
        "\n",
        "    def mostrar_dados(self):\n",
        "        print(f'Nome: {self.nome}, Notas: {self.nota1}, {self.nota2}, {self.nota3}, Média: {self.calcular_media()}')\n",
        "\n",
        "estudante1 = estudante(\"Gustavo\", 2, 6.5 ,8)\n",
        "print(f'A média do aluno é: {estudante1.calcular_media()}')\n",
        "estudante1.verificar_aprovacao()\n",
        "estudante1.mostrar_dados()\n",
        "estudante1.atualizar_notas(2,4,5)\n",
        "\n",
        "estudante2 = estudante(\"Sara\", 7.2, 8.5, 6)\n",
        "print(f'A média do aluno é: {estudante2.calcular_media()}')\n",
        "estudante2.verificar_aprovacao()\n",
        "estudante2.mostrar_dados()\n",
        "estudante2.atualizar_notas(10,9,5)"
      ]
    },
    {
      "cell_type": "code",
      "execution_count": null,
      "id": "354f3e7a",
      "metadata": {
        "colab": {
          "base_uri": "https://localhost:8080/"
        },
        "id": "354f3e7a",
        "outputId": "9c2fd325-441e-434b-b08b-575453131aeb"
      },
      "outputs": [
        {
          "name": "stdout",
          "output_type": "stream",
          "text": [
            "O quarto de Solteiro, número 45, está disponível\n",
            "O quarto de Solteiro, número 45, já disponível!\n",
            "O quarto de Solteiro, número 45, está Disponível\n",
            "\n",
            "O quarto de Casal, número 76, está disponível\n",
            "O quarto de Casal, número 76, já disponível!\n",
            "O quarto de Casal, número 76, está Disponível\n",
            "\n"
          ]
        }
      ],
      "source": [
        "#Questão Reserva de Hotel\n",
        "\n",
        "class quartohotel:\n",
        "    def __init__(self, numero:int, tipo:str):\n",
        "        self.numero = numero\n",
        "        self.tipo = tipo\n",
        "        self.ocupado = False\n",
        "\n",
        "\n",
        "    def reservar(self):\n",
        "        if self.ocupado:\n",
        "            self.ocupado = True\n",
        "            print(f\"Desculpe, mas o quarto de {self.tipo}, número {self.numero}, está Ocupado!\")\n",
        "        else:\n",
        "            print(f\"O quarto de {self.tipo}, número {self.numero}, está disponível\")\n",
        "\n",
        "    def liberar(self):\n",
        "        if self.ocupado:\n",
        "            self.ocupado = False\n",
        "            print(f\"O quarto de {self.tipo}, número {self.numero}, estará disponível em breve!\")\n",
        "        else:\n",
        "            print(f'O quarto de {self.tipo}, número {self.numero}, já disponível!')\n",
        "\n",
        "    def status(self):\n",
        "        status = \"Ocupado\" if self.ocupado else \"Disponível\"\n",
        "        print(f'O quarto de {self.tipo}, número {self.numero}, está {status}\\n')\n",
        "\n",
        "quartohotel_1 = quartohotel(45, \"Solteiro\")\n",
        "quartohotel_1.reservar()\n",
        "quartohotel_1.liberar()\n",
        "quartohotel_1.status()\n",
        "\n",
        "quartohotel_2 = quartohotel(76, \"Casal\")\n",
        "quartohotel_2.reservar()\n",
        "quartohotel_2.liberar()\n",
        "quartohotel_2.status()"
      ]
    },
    {
      "cell_type": "code",
      "execution_count": null,
      "id": "95cd1293",
      "metadata": {
        "colab": {
          "base_uri": "https://localhost:8080/"
        },
        "id": "95cd1293",
        "outputId": "99b8e4a7-1744-4439-eb16-6fc41a0f368d"
      },
      "outputs": [
        {
          "name": "stdout",
          "output_type": "stream",
          "text": [
            "Cliente: Gustavo\n",
            " Lista de Itens: ['banana', 'cebola']\n",
            " Valor Total: 8.35\n",
            "Cliente: Gustavo\n",
            " Lista de Itens: ['banana']\n",
            " Valor Total: 6.0\n"
          ]
        }
      ],
      "source": [
        "#Questão Gerenciador de Pedidos de Restaurante\n",
        "\n",
        "class pedido:\n",
        "    def __init__(self, cliente:str):\n",
        "        self.cliente = cliente\n",
        "        self.itens = []\n",
        "        self.total = 0.00\n",
        "\n",
        "    def adicionar_item(self, item, preço):\n",
        "        self.itens.append(item)\n",
        "        self.total += preço\n",
        "\n",
        "    def remover_item(self, item, preço):\n",
        "        if item in self.itens:\n",
        "            self.itens.remove(item)\n",
        "            self.total -= preço\n",
        "\n",
        "    def resumo(self):\n",
        "        itens_str = ','.join(self.itens)\n",
        "        print(f'Cliente: {self.cliente}\\n Lista de Itens: {self.itens}\\n Valor Total: {self.total}')\n",
        "\n",
        "pedido1 = pedido(\"Gustavo\")\n",
        "pedido1.adicionar_item(\"banana\", 6.00)\n",
        "pedido1.adicionar_item(\"cebola\", 2.35)\n",
        "pedido1.resumo()\n",
        "pedido1.remover_item('cebola',2.35)\n",
        "pedido1.resumo()"
      ]
    },
    {
      "cell_type": "code",
      "execution_count": null,
      "id": "6e139823",
      "metadata": {
        "colab": {
          "base_uri": "https://localhost:8080/"
        },
        "id": "6e139823",
        "outputId": "f8bb2f7a-b1cd-4220-84f2-e0b4bbdf0da7"
      },
      "outputs": [
        {
          "name": "stdout",
          "output_type": "stream",
          "text": [
            "O carro de modelo Palio 207 está Alugado!\n",
            "O Palio 207 está com 5000.0Km rodados\n",
            "Não é Necessário Realizar a Manutenção!\n",
            "O veículo do modelo Palio 207 e ano 2010 está alugado e sua quilometragem é 5000.0\n",
            "\n",
            "O carro de modelo Mercedes Bens está Alugado!\n",
            "O Mercedes Bens está com 21000.0Km rodados\n",
            "Necessário Realizar a Manutenção!\n",
            "Manutenção do veículo Mercedes Bens completa! Quilometragem Zerada!\n",
            "O veículo do modelo Mercedes Bens e ano 2017 está alugado e sua quilometragem é 21000.0\n",
            "\n"
          ]
        }
      ],
      "source": [
        "#Questão Locação de Carro\n",
        "\n",
        "class veiculo:\n",
        "    def __init__(self, modelo:str, ano:int):\n",
        "        self.modelo = modelo\n",
        "        self.ano = ano\n",
        "        self.disponivel = True\n",
        "        self.km_rodado = 0.0\n",
        "\n",
        "    def alugar(self):\n",
        "        if self.disponivel:\n",
        "            self.disponivel = False\n",
        "            print(f\"O carro de modelo {self.modelo} está Alugado!\")\n",
        "        else:\n",
        "            print(f\"O carro de modelo {self.modelo} está Disponível!\")\n",
        "\n",
        "    def devolver(self, km:float):\n",
        "        if self.disponivel == False:\n",
        "            self.km_rodado += km\n",
        "            print(f\"O {self.modelo} está com {self.km_rodado}Km rodados\")\n",
        "        else:\n",
        "            pass\n",
        "\n",
        "    def realizar_manutencao(self):\n",
        "        if self.km_rodado >= 10000:\n",
        "          print(f\"Manutenção do veículo {self.modelo} completa! Quilometragem Zerada!\")\n",
        "        else:\n",
        "          pass\n",
        "\n",
        "    def verificar_status(self):\n",
        "        status = \"Disponível\" if self.disponivel else \"alugado\"\n",
        "        print(f'O veículo do modelo {self.modelo} e ano {self.ano} está {status} e sua quilometragem é {self.km_rodado}\\n')\n",
        "\n",
        "    def necessita_manutencao(self):\n",
        "      if self.km_rodado >= 10000.0:\n",
        "        print(\"Necessário Realizar a Manutenção!\")\n",
        "      else:\n",
        "        print(\"Não é Necessário Realizar a Manutenção!\")\n",
        "\n",
        "veiculo1 = veiculo(\"Palio 207\", 2010)\n",
        "veiculo1.alugar()\n",
        "veiculo1.devolver(5000.0)\n",
        "veiculo1.necessita_manutencao()\n",
        "veiculo1.realizar_manutencao()\n",
        "veiculo1.verificar_status()\n",
        "\n",
        "veiculo2 = veiculo(\"Mercedes Bens\", 2017)\n",
        "veiculo2.alugar()\n",
        "veiculo2.devolver(21000.0)\n",
        "veiculo2.necessita_manutencao()\n",
        "veiculo2.realizar_manutencao()\n",
        "veiculo2.verificar_status()"
      ]
    },
    {
      "cell_type": "code",
      "execution_count": null,
      "id": "9118fcd1",
      "metadata": {
        "colab": {
          "base_uri": "https://localhost:8080/"
        },
        "id": "9118fcd1",
        "outputId": "f6e940f8-2eac-471c-ec09-0f451f684a0d"
      },
      "outputs": [
        {
          "name": "stdout",
          "output_type": "stream",
          "text": [
            "Válvula do tanque aberta\n",
            "O nível atual do tanque é 150.0\n",
            "Foram retirados do tanque: 25.0\n",
            "Quantidade atual: 125.0L\n",
            "None\n"
          ]
        }
      ],
      "source": [
        "#Questão Sistema de Tanque de Armazenamento\n",
        "\n",
        "class sistemas:\n",
        "    def __init__(self, capac_max:float):\n",
        "        self.capac_max = capac_max\n",
        "        self.nvl_atual = 0.0\n",
        "        self.aberto = True\n",
        "\n",
        "    def abrir_valvula(self):\n",
        "        if self.aberto:\n",
        "          self.aberto = True\n",
        "          print(\"Válvula do tanque aberta\")\n",
        "        else:\n",
        "          pass\n",
        "\n",
        "    def fechar_valvula(self):\n",
        "      if not self.aberto:\n",
        "        self.aberto = False\n",
        "        print(\"Válvula do tanque fechada\")\n",
        "      else:\n",
        "        pass\n",
        "\n",
        "    def adicionar_liquido(self, quantidade:float):\n",
        "        self.nvl_atual += quantidade\n",
        "        print(f\"O nível atual do tanque é {self.nvl_atual}\")\n",
        "\n",
        "    def retirar_liquido(self, quantidade:float):\n",
        "        self.nvl_atual -= quantidade\n",
        "        print(f\"Foram retirados do tanque: {quantidade}\")\n",
        "\n",
        "    def verificar_status(self):\n",
        "      print(f\"Quantidade atual: {self.nvl_atual}L\")\n",
        "\n",
        "    def esta_cheio(self):\n",
        "        if self.nvl_atual == self.capac_max:\n",
        "            True\n",
        "            print(\"Tanque Cheio\")\n",
        "        else:\n",
        "            False\n",
        "\n",
        "    def esta_vazio(self):\n",
        "        if self.nvl_atual == 0.0:\n",
        "            True\n",
        "            print(\"Tanque Vazio\")\n",
        "        else:\n",
        "            False\n",
        "\n",
        "sistemas1 = sistemas(500.0)\n",
        "sistemas1.abrir_valvula()\n",
        "sistemas1.fechar_valvula()\n",
        "sistemas1.adicionar_liquido(150.0)\n",
        "sistemas1.retirar_liquido(25.0)\n",
        "print(sistemas1.verificar_status())\n",
        "sistemas1.esta_cheio()\n",
        "sistemas1.esta_vazio()"
      ]
    }
  ],
  "metadata": {
    "colab": {
      "provenance": []
    },
    "kernelspec": {
      "display_name": "venv",
      "language": "python",
      "name": "python3"
    },
    "language_info": {
      "name": "python",
      "version": "3.10.10"
    }
  },
  "nbformat": 4,
  "nbformat_minor": 5
}
