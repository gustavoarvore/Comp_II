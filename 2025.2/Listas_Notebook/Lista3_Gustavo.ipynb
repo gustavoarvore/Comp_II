{
 "cells": [
  {
   "cell_type": "markdown",
   "id": "02d775d9",
   "metadata": {},
   "source": [
    "## Exercício 1: Sistema de Pedidos em um Restaurante"
   ]
  },
  {
   "cell_type": "code",
   "execution_count": 41,
   "id": "299aafd5",
   "metadata": {},
   "outputs": [
    {
     "name": "stdout",
     "output_type": "stream",
     "text": [
      "Pedido Nº: 101\n",
      "Itens:\n",
      "- Hamburguer: R$20.00\n",
      "- Refrigerante: R$5.00\n",
      "Total: R$25.00\n",
      "\n",
      "Pedido Delivery Nº: 102\n",
      "Itens:\n",
      "- Pizza: R$35.00\n",
      "- Suco: R$7.00\n",
      "Taxa de entrega: R$8.00\n",
      "Total com entrega: R$50.00\n"
     ]
    }
   ],
   "source": [
    "class pedido:\n",
    "    def __init__(self, numero_pedido:int):\n",
    "        self.numero_pedido = numero_pedido\n",
    "        self.itens = []\n",
    "\n",
    "    def adicionar_item(self, nome:str, preco:float):\n",
    "        self.itens.append({'nome': nome, 'preco': preco})\n",
    "\n",
    "    def calcular_total(self):\n",
    "        return sum(\n",
    "            item['preco'] \n",
    "            for item in self.itens\n",
    "        )\n",
    "\n",
    "    def exibir_pedido(self):\n",
    "        print(f\"Pedido Nº: {self.numero_pedido}\")\n",
    "        print(\"Itens:\")\n",
    "        \n",
    "        for item in self.itens:\n",
    "            print(f\"- {item['nome']}: R${item['preco']:.2f}\")\n",
    "        print(f\"Total: R${self.calcular_total():.2f}\\n\")\n",
    "\n",
    "\n",
    "class pedidodelivery(pedido):\n",
    "    def __init__(self, numero_pedido, taxa_entrega):\n",
    "        super().__init__(numero_pedido)\n",
    "        self.taxa_entrega = taxa_entrega\n",
    "\n",
    "    def calcular_total_com_entrega(self):\n",
    "        return self.calcular_total() + self.taxa_entrega\n",
    "\n",
    "    def exibir_pedido(self):\n",
    "        print(f\"Pedido Delivery Nº: {self.numero_pedido}\")\n",
    "        print(\"Itens:\")\n",
    "        \n",
    "        for item in self.itens:\n",
    "            print(f\"- {item['nome']}: R${item['preco']:.2f}\")\n",
    "        print(f\"Taxa de entrega: R${self.taxa_entrega:.2f}\")\n",
    "        print(f\"Total com entrega: R${self.calcular_total_com_entrega():.2f}\")\n",
    "\n",
    "pedido1 = pedido(101)\n",
    "pedido1.adicionar_item(\"Hamburguer\", 20.0)\n",
    "pedido1.adicionar_item(\"Refrigerante\", 5.0)\n",
    "pedido1.exibir_pedido()\n",
    "\n",
    "pedido2 = pedidodelivery(102, taxa_entrega=8.0)\n",
    "pedido2.adicionar_item(\"Pizza\", 35.0)\n",
    "pedido2.adicionar_item(\"Suco\", 7.0)\n",
    "pedido2.exibir_pedido()"
   ]
  },
  {
   "cell_type": "markdown",
   "id": "e6126dbd",
   "metadata": {},
   "source": [
    "## Exercício 2: Gerenciamento de Funcionários"
   ]
  },
  {
   "cell_type": "code",
   "execution_count": 42,
   "metadata": {},
   "outputs": [
    {
     "name": "stdout",
     "output_type": "stream",
     "text": [
      "Nome: Sara\n",
      "Salario: R$7000.00\n",
      "\n",
      "Nome: Gustavo\n",
      "Salario por Hora: R$5400.00\n"
     ]
    }
   ],
   "source": [
    "class funcionario:\n",
    "    def __init__(self, nome:str, salario_base:float):\n",
    "        self.nome = nome\n",
    "        self.salario_base = salario_base\n",
    "\n",
    "    def calcular_pagamento(self):\n",
    "        return self.salario_base\n",
    "\n",
    "    def exibir_detalhes(self):\n",
    "        print(f\"Nome: {self.nome}\")\n",
    "        print(f\"Salario: R${self.calcular_pagamento():.2f}\\n\")\n",
    "\n",
    "\n",
    "class funcionariohorista(funcionario):\n",
    "    def __init__(self, nome, valor_hora, horas_trabalhadas):\n",
    "        super().__init__(nome, salario_base=0)\n",
    "        self.valor_hora = valor_hora\n",
    "        self.horas_trabalhadas = horas_trabalhadas\n",
    "\n",
    "    def calcular_pagamento(self):\n",
    "        return self.valor_hora * self.horas_trabalhadas\n",
    "\n",
    "    def exibir_detalhes(self):\n",
    "        print(f\"Nome: {self.nome}\")\n",
    "        print(f\"Salario por Hora: R${self.calcular_pagamento():.2f}\")\n",
    "\n",
    "funcionario1 = funcionario(\"Sara\", 7000.0)\n",
    "funcionario1.exibir_detalhes()\n",
    "\n",
    "funcionariohorista1 = funcionariohorista(\"Gustavo\", valor_hora=45.0, horas_trabalhadas=120)\n",
    "funcionariohorista1.exibir_detalhes()"
   ]
  },
  {
   "cell_type": "markdown",
   "id": "475864ad",
   "metadata": {},
   "source": [
    "## Exercício 3: Sistema de Transporte por Aplicativo"
   ]
  },
  {
   "cell_type": "code",
   "execution_count": 43,
   "id": "0239aa50",
   "metadata": {},
   "outputs": [
    {
     "name": "stdout",
     "output_type": "stream",
     "text": [
      "Corrida Comum:\n",
      "Origem: Centro\n",
      "Destino: Aeroporto\n",
      "Distancia: 15 km\n",
      "Preco: R$0.00\n",
      "\n",
      "Corrida Premium:\n",
      "Origem: Shopping\n",
      "Destino: Hotel\n",
      "Distancia: 10 km\n",
      "Preco: R$30.00\n",
      "Servicos extras: Wi-Fi, Agua\n"
     ]
    }
   ],
   "source": [
    "class corrida:\n",
    "    def __init__(self, origem, destino, distancia_km):\n",
    "        self.origem = origem\n",
    "        self.destino = destino\n",
    "        self.distancia_km = distancia_km\n",
    "\n",
    "    def calcular_preco(self):\n",
    "        return 0  \n",
    "\n",
    "    def detalhes(self):\n",
    "        print(f\"Origem: {self.origem}\")\n",
    "        print(f\"Destino: {self.destino}\")\n",
    "        print(f\"Distancia: {self.distancia_km} km\")\n",
    "        print(f\"Preco: R${self.calcular_preco():.2f}\")\n",
    "\n",
    "\n",
    "class corridapremium(corrida):\n",
    "    def __init__(self, origem, destino, distancia_km, servicos_extras):\n",
    "        super().__init__(origem, destino, distancia_km)\n",
    "        self.servicos_extras = servicos_extras\n",
    "\n",
    "    def calcular_preco(self):\n",
    "        return self.distancia_km * 3  \n",
    "\n",
    "    def detalhes(self):\n",
    "        super().detalhes()\n",
    "        print(f\"Servicos extras: {\", \".join(self.servicos_extras)}\")\n",
    "\n",
    "corrida1 = corrida(\"Centro\", \"Aeroporto\", 15)\n",
    "print(\"Corrida Comum:\")\n",
    "corrida1.detalhes()\n",
    "\n",
    "corrida2 = corridapremium(\"Shopping\", \"Hotel\", 10, [\"Wi-Fi\", \"Agua\"])\n",
    "print(\"\\nCorrida Premium:\")\n",
    "corrida2.detalhes()"
   ]
  },
  {
   "cell_type": "markdown",
   "id": "5ba5042d",
   "metadata": {},
   "source": [
    "## Exercício 4: Sistema de Controle de Dispositivos Inteligentes"
   ]
  },
  {
   "cell_type": "code",
   "execution_count": 44,
   "id": "45105d72",
   "metadata": {},
   "outputs": [
    {
     "name": "stdout",
     "output_type": "stream",
     "text": [
      "Smart TV - Status: Ligado\n",
      "Smart TV - Status: Desligado\n",
      "\n",
      "Brilho da Lampada Sala ajustado para 75%\n",
      "\n",
      "Lampada Sala - Status: Ligada - Brilho: 75%\n",
      "Lampada Sala - Status: Desligada - Brilho: 75%\n"
     ]
    }
   ],
   "source": [
    "class dispositivointeligente:\n",
    "    def __init__(self, nome:str):\n",
    "        self.nome = nome\n",
    "        self.status = False  \n",
    "\n",
    "    def ligar(self):\n",
    "        self.status = True\n",
    "\n",
    "    def desligar(self):\n",
    "        self.status = False\n",
    "\n",
    "    def exibir_status(self):\n",
    "        estado = \"Ligado\" if self.status else \"Desligado\"\n",
    "        print(f\"{self.nome} - Status: {estado}\")\n",
    "\n",
    "\n",
    "class lampadainteligente(dispositivointeligente):\n",
    "    def __init__(self, nome, nivel_brilho=0):\n",
    "        super().__init__(nome)\n",
    "        self.nivel_brilho = nivel_brilho\n",
    "\n",
    "    def ajustar_brilho(self, nivel):\n",
    "        if 0 <= nivel <= 100:\n",
    "            self.nivel_brilho = nivel\n",
    "            print(f\"\\nBrilho da {self.nome} ajustado para {self.nivel_brilho}%\\n\")\n",
    "        else:\n",
    "            print(\"Nivel de brilho deve estar entre 0 e 100.\")\n",
    "\n",
    "    def exibir_status(self):\n",
    "        estado = \"Ligada\" if self.status else \"Desligada\"\n",
    "        print(f\"{self.nome} - Status: {estado} - Brilho: {self.nivel_brilho}%\")\n",
    "\n",
    "dispositivo1 = dispositivointeligente(\"Smart TV\")\n",
    "dispositivo1.ligar()\n",
    "dispositivo1.exibir_status()\n",
    "dispositivo1.desligar()\n",
    "dispositivo1.exibir_status()\n",
    "\n",
    "lampada1 = lampadainteligente(\"Lampada Sala\")\n",
    "lampada1.ligar()\n",
    "lampada1.ajustar_brilho(75)\n",
    "lampada1.exibir_status()\n",
    "lampada1.desligar()\n",
    "lampada1.exibir_status()"
   ]
  },
  {
   "cell_type": "markdown",
   "id": "a29d51c0",
   "metadata": {},
   "source": [
    "### Exercício 5: Sistema de Contas Bancárias"
   ]
  },
  {
   "cell_type": "code",
   "execution_count": 45,
   "id": "12bf9277",
   "metadata": {},
   "outputs": [
    {
     "name": "stdout",
     "output_type": "stream",
     "text": [
      "Deposito de R$500.00 realizado com sucesso.\n",
      "Saque de R$200.00 realizado com sucesso.\n",
      "Conta: 12345 | Titular: João | Saldo: R$1300.00\n",
      "\n",
      "Deposito de R$300.00 realizado com sucesso.\n",
      "Saque de R$100.00 realizado com sucesso.\n",
      "Juros de R$110.00 aplicados a conta.\n",
      "Conta: 67890 | Titular: Maria | Saldo: R$2310.00\n",
      "\n"
     ]
    }
   ],
   "source": [
    "class contabancaria:\n",
    "    def __init__(self, titular, numero_conta, saldo=0.0):\n",
    "        self.titular = titular\n",
    "        self.numero_conta = numero_conta\n",
    "        self.saldo = saldo\n",
    "\n",
    "    def depositar(self, valor):\n",
    "        if valor > 0:\n",
    "            self.saldo += valor\n",
    "            print(f\"Deposito de R${valor:.2f} realizado com sucesso.\")\n",
    "        else:\n",
    "            print(\"Valor de deposito deve ser positivo.\")\n",
    "\n",
    "    def sacar(self, valor):\n",
    "        if 0 < valor <= self.saldo:\n",
    "            self.saldo -= valor\n",
    "            print(f\"Saque de R${valor:.2f} realizado com sucesso.\")\n",
    "        else:\n",
    "            print(\"Saldo insuficiente ou valor invalido para saque.\")\n",
    "\n",
    "    def exibir_saldo(self):\n",
    "        print(f\"Conta: {self.numero_conta} | Titular: {self.titular} | Saldo: R${self.saldo:.2f}\\n\")\n",
    "\n",
    "\n",
    "class contapoupanca(contabancaria):\n",
    "    def __init__(self, titular, numero_conta, saldo=0.0, taxa_juros=0.0):\n",
    "        super().__init__(titular, numero_conta, saldo)\n",
    "        self.taxa_juros = taxa_juros  \n",
    "\n",
    "    def aplicar_juros(self):\n",
    "        juros = self.saldo * (self.taxa_juros / 100)\n",
    "        self.saldo += juros\n",
    "        print(f\"Juros de R${juros:.2f} aplicados a conta.\")\n",
    "\n",
    "conta1 = contabancaria(\"João\", 12345, 1000.0)\n",
    "conta1.depositar(500)\n",
    "conta1.sacar(200)\n",
    "conta1.exibir_saldo()\n",
    "\n",
    "conta2 = contapoupanca(\"Maria\", 67890, 2000.0, taxa_juros=5.0)\n",
    "conta2.depositar(300)\n",
    "conta2.sacar(100)\n",
    "conta2.aplicar_juros()\n",
    "conta2.exibir_saldo()"
   ]
  },
  {
   "cell_type": "markdown",
   "id": "7b4df706",
   "metadata": {},
   "source": [
    "## Exercício 6: Gerenciamento de Pagamentos Online"
   ]
  },
  {
   "cell_type": "code",
   "execution_count": 46,
   "id": "9854f7b4",
   "metadata": {},
   "outputs": [
    {
     "name": "stdout",
     "output_type": "stream",
     "text": [
      "Pagamento comum:\n",
      "Descricao: Pagamento em dinheiro\n",
      "Valor: R$200.00\n",
      "Taxa: R$0.00\n",
      "Total com taxa: R$200.00\n",
      "\n",
      "Pagamento com cartao:\n",
      "Descricao: Pagamento com cartao\n",
      "Valor: R$500.00\n",
      "Bandeira: Visa\n",
      "Taxa: R$25.00\n",
      "Total com taxa: R$525.00\n"
     ]
    }
   ],
   "source": [
    "class pagamento:\n",
    "    def __init__(self, valor, descricao):\n",
    "        self.valor = valor\n",
    "        self.descricao = descricao\n",
    "\n",
    "    def calcular_taxa(self):\n",
    "        return 0\n",
    "\n",
    "    def detalhes(self):\n",
    "        print(f\"Descricao: {self.descricao}\")\n",
    "        print(f\"Valor: R${self.valor:.2f}\")\n",
    "        print(f\"Taxa: R${self.calcular_taxa():.2f}\")\n",
    "        print(f\"Total com taxa: R${self.valor + self.calcular_taxa():.2f}\")\n",
    "\n",
    "\n",
    "class pagamentocartao(pagamento):\n",
    "    def __init__(self, valor, descricao, bandeira):\n",
    "        super().__init__(valor, descricao)\n",
    "        self.bandeira = bandeira\n",
    "\n",
    "    def calcular_taxa(self):\n",
    "        return self.valor * 0.05\n",
    "\n",
    "    def detalhes(self):\n",
    "        print(f\"Descricao: {self.descricao}\")\n",
    "        print(f\"Valor: R${self.valor:.2f}\")\n",
    "        print(f\"Bandeira: {self.bandeira}\")\n",
    "        print(f\"Taxa: R${self.calcular_taxa():.2f}\")\n",
    "        print(f\"Total com taxa: R${self.valor + self.calcular_taxa():.2f}\")\n",
    "\n",
    "pag1 = pagamento(200, \"Pagamento em dinheiro\")\n",
    "print(\"Pagamento comum:\")\n",
    "pag1.detalhes()\n",
    "\n",
    "pag2 = pagamentocartao(500, \"Pagamento com cartao\", \"Visa\")\n",
    "print(\"\\nPagamento com cartao:\")\n",
    "pag2.detalhes()"
   ]
  }
 ],
 "metadata": {
  "kernelspec": {
   "display_name": "venv",
   "language": "python",
   "name": "python3"
  },
  "language_info": {
   "codemirror_mode": {
    "name": "ipython",
    "version": 3
   },
   "file_extension": ".py",
   "mimetype": "text/x-python",
   "name": "python",
   "nbconvert_exporter": "python",
   "pygments_lexer": "ipython3",
   "version": "3.13.5"
  }
 },
 "nbformat": 4,
 "nbformat_minor": 5
}
