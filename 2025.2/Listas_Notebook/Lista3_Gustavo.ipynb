{
 "cells": [
  {
   "cell_type": "markdown",
   "id": "02d775d9",
   "metadata": {},
   "source": [
    "## Exercício 1: Sistema de Pedidos em um Restaurante"
   ]
  },
  {
   "cell_type": "code",
   "execution_count": null,
   "id": "58518d0e",
   "metadata": {},
   "outputs": [],
   "source": [
    "class pedido:\n",
    "    def __init__(self, numero_pedido):\n",
    "        self.numero_pedido = numero_pedido\n",
    "        self.itens = []\n",
    "        \n",
    "    def adicionar_itens(self, nome):\n",
    "        while True:\n",
    "                \n",
    "            self.itens.append(nome)\n",
    "            continuar = input(\"Deseja continar ? (s/n):\").strip().lower()\n",
    "            if continuar != 's':\n",
    "                break\n",
    "        \n",
    "    def calcular_total(self, preco):\n",
    "        preco += \n",
    "        return f'valor total do pedido: {preco}'\n",
    "    \n",
    "    def exibir_pedido(self):\n",
    "        print(f'O pedido numero {self.numero_pedido} contem os itens {self.itens}')\n",
    "        \n",
    "# class pedidodelivery(pedido):\n",
    "#     super.__init__(self)"
   ]
  }
 ],
 "metadata": {
  "kernelspec": {
   "display_name": "venv",
   "language": "python",
   "name": "python3"
  },
  "language_info": {
   "name": "python",
   "version": "3.13.7"
  }
 },
 "nbformat": 4,
 "nbformat_minor": 5
}
