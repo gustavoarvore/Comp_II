{
 "cells": [
  {
   "cell_type": "markdown",
   "id": "02d775d9",
   "metadata": {},
   "source": [
    "## Exercício 1: \n"
   ]
  },
  {
   "cell_type": "code",
   "execution_count": null,
   "id": "58518d0e",
   "metadata": {
    "vscode": {
     "languageId": "plaintext"
    }
   },
   "outputs": [],
   "source": []
  }
 ],
 "metadata": {
  "language_info": {
   "name": "python"
  }
 },
 "nbformat": 4,
 "nbformat_minor": 5
}
