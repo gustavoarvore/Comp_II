{
 "cells": [
  {
   "cell_type": "markdown",
   "id": "041b7dba",
   "metadata": {},
   "source": [
    "# LISTA 4 "
   ]
  },
  {
   "cell_type": "markdown",
   "id": "d5da54f3",
   "metadata": {},
   "source": [
    "## 1. Classe Abstrata Pessoa\n"
   ]
  },
  {
   "cell_type": "code",
   "execution_count": 1,
   "id": "f2bdd43f",
   "metadata": {},
   "outputs": [],
   "source": [
    "from abc import ABC, abstractmethod\n",
    "# import numpy as np"
   ]
  },
  {
   "cell_type": "code",
   "execution_count": 2,
   "id": "2dc8abe6",
   "metadata": {},
   "outputs": [],
   "source": [
    "class pessoa(ABC):\n",
    "    def __init__(self, nome, idade, endereco):\n",
    "        self.nome = nome\n",
    "        self.idade = idade\n",
    "        self.endereco = endereco\n",
    "\n",
    "    def set_endereco(self, novo_endereco):\n",
    "        self.endereco = novo_endereco\n",
    "\n",
    "    def aniversario(self):\n",
    "        self.idade += 1\n",
    "\n",
    "    @abstractmethod\n",
    "    def get_id(self):\n",
    "        pass\n",
    "\n",
    "    def __eq__(self, other):\n",
    "        return self.get_id() == other.get_id()"
   ]
  },
  {
   "cell_type": "markdown",
   "id": "9accc77f",
   "metadata": {},
   "source": [
    "## 2. Subclasse PessoaFisica\n"
   ]
  },
  {
   "cell_type": "code",
   "execution_count": 3,
   "id": "f6b4b5d4",
   "metadata": {},
   "outputs": [],
   "source": [
    "class pessoafisica(pessoa):\n",
    "    def __init__(self, nome, idade, endereco, cpf, estado_civil):\n",
    "        super().__init__(nome, idade, endereco)\n",
    "        self.cpf = cpf\n",
    "        self.estado_civil = estado_civil\n",
    "\n",
    "    def set_estado_civil(self, novo_estado):\n",
    "        self.estado_civil = novo_estado\n",
    "\n",
    "    def get_id(self):\n",
    "        return self.cpf\n",
    "\n",
    "    def __lt__(self, other):\n",
    "        return self.idade < other.idade"
   ]
  },
  {
   "cell_type": "markdown",
   "id": "954cbb79",
   "metadata": {},
   "source": [
    "## 3. Subclasse Empregado\n"
   ]
  },
  {
   "cell_type": "code",
   "execution_count": 4,
   "id": "132833e2",
   "metadata": {},
   "outputs": [],
   "source": [
    "class empregado(pessoafisica):\n",
    "    def __init__(self, nome, idade, endereco, cpf, estado_civil, salario):\n",
    "        super().__init__(nome, idade, endereco, cpf, estado_civil)\n",
    "        self.salario = salario\n",
    "\n",
    "    def aumentar_salario(self, valor):\n",
    "        self.salario += valor\n",
    "\n",
    "    def total_anual(self):\n",
    "        return self.salario * 12\n",
    "\n",
    "    def __add__(self, other):\n",
    "        return self.salario + other.salario"
   ]
  },
  {
   "cell_type": "markdown",
   "id": "d47e9063",
   "metadata": {},
   "source": [
    "## Classe PessoaJuridica"
   ]
  },
  {
   "cell_type": "code",
   "execution_count": 5,
   "id": "5a6f7359",
   "metadata": {},
   "outputs": [],
   "source": [
    "class pessoajuridica(pessoa):\n",
    "    def __init__(self, nome, idade, endereco, cnpj):\n",
    "        super().__init__(nome, idade, endereco)\n",
    "        self.cnpj = cnpj\n",
    "\n",
    "    def get_id(self):\n",
    "        return self.cnpj"
   ]
  },
  {
   "cell_type": "markdown",
   "id": "5b6cd99e",
   "metadata": {},
   "source": [
    "## 4. Classe Empresa\n"
   ]
  },
  {
   "cell_type": "code",
   "execution_count": 6,
   "id": "2e5956dc",
   "metadata": {},
   "outputs": [],
   "source": [
    "class empresa(pessoajuridica):\n",
    "    def __init__(self, nome, idade, endereco, cnpj):\n",
    "        super().__init__(nome, idade, endereco, cnpj)\n",
    "        self.empregados = []\n",
    "\n",
    "    def contratar(self, empregado):\n",
    "        if empregado not in self.empregados:\n",
    "            self.empregados.append(empregado)\n",
    "\n",
    "    def demitir(self, empregado):\n",
    "        if empregado in self.empregados:\n",
    "            self.empregados.remove(empregado)\n",
    "\n",
    "    def __len__(self):\n",
    "        return len(self.empregados)"
   ]
  },
  {
   "cell_type": "markdown",
   "id": "87591514",
   "metadata": {},
   "source": [
    "## 5. Testes Executáveis"
   ]
  },
  {
   "cell_type": "code",
   "execution_count": 7,
   "id": "949a8ed4",
   "metadata": {},
   "outputs": [
    {
     "name": "stdout",
     "output_type": "stream",
     "text": [
      "False\n",
      "True\n",
      "True\n",
      "False\n",
      "Soma dos salários: 7000\n",
      "Novo salário mensal: 3500\n",
      "Salário anual: 42000\n",
      "Empregados na empresa: 0\n",
      "Empregados na empresa: 2\n",
      "Empregados na empresa: 0\n",
      "Empregados na empresa: 1\n"
     ]
    }
   ],
   "source": [
    "empregado1 = empregado(\"Joao\", 30, \"Rua A\", \"123\", \"Solteiro\", 3000)\n",
    "empregado2 = empregado(\"Maria\", 40, \"Rua B\", \"456\", \"Casado\", 4000)\n",
    "empregado3 = empregado(\"Carlos\", 28, \"Rua C\", \"123\", \"Solteiro\", 3200)  \n",
    "\n",
    "print(empregado1 == empregado2)  \n",
    "print(empregado1 == empregado3)  \n",
    "\n",
    "print(empregado3 < empregado1)  \n",
    "print(empregado2 < empregado1)  \n",
    "\n",
    "total_salarios = empregado1 + empregado2\n",
    "print(\"Soma dos salários:\", total_salarios) \n",
    "\n",
    "empregado1.aumentar_salario(500)\n",
    "print(\"Novo salário mensal:\", empregado1.salario)  \n",
    "print(\"Salário anual:\", empregado1.total_anual())  \n",
    "\n",
    "empresa1 = empresa(\"Empresa X\", 10, \"Av. Central\", \"00.000.000/0001-00\")\n",
    "\n",
    "print(\"Empregados na empresa:\", len(empresa1)) \n",
    "empresa1.contratar(empregado1)\n",
    "empresa1.contratar(empregado2)\n",
    "empresa1.contratar(empregado1)  \n",
    "print(\"Empregados na empresa:\", len(empresa1)) \n",
    "\n",
    "empresa1.demitir(empregado3) \n",
    "empresa1.demitir(empregado2)\n",
    "print(\"Empregados na empresa:\", len(empresa1)) \n",
    "\n",
    "empresa1.contratar(empregado3)\n",
    "print(\"Empregados na empresa:\", len(empresa1)) "
   ]
  }
 ],
 "metadata": {
  "kernelspec": {
   "display_name": "venv",
   "language": "python",
   "name": "python3"
  },
  "language_info": {
   "codemirror_mode": {
    "name": "ipython",
    "version": 3
   },
   "file_extension": ".py",
   "mimetype": "text/x-python",
   "name": "python",
   "nbconvert_exporter": "python",
   "pygments_lexer": "ipython3",
   "version": "3.13.7"
  }
 },
 "nbformat": 4,
 "nbformat_minor": 5
}
