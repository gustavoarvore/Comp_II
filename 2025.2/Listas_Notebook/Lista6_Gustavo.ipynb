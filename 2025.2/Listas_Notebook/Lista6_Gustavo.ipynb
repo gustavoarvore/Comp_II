{
 "cells": [
  {
   "cell_type": "markdown",
   "id": "4c6da4ba",
   "metadata": {},
   "source": [
    "# Lista 6"
   ]
  },
  {
   "cell_type": "markdown",
   "id": "b511e7aa",
   "metadata": {},
   "source": [
    "### Nome: Gustavo Machado | DRE: 122115709"
   ]
  },
  {
   "cell_type": "markdown",
   "id": "d2e9115c",
   "metadata": {},
   "source": [
    "## Questão 1"
   ]
  },
  {
   "cell_type": "code",
   "execution_count": 1,
   "id": "1d5882fc",
   "metadata": {},
   "outputs": [
    {
     "name": "stdout",
     "output_type": "stream",
     "text": [
      "gabriel\n",
      "\n",
      "gustavo\n",
      "\n",
      "sara\n",
      "\n",
      "lucas\n",
      "\n",
      "marcele\n",
      "\n"
     ]
    }
   ],
   "source": [
    "arq = open('nomes.txt', 'w')\n",
    "for i in range(5):\n",
    "    nome = input('Digite um nome: ')\n",
    "    arq.write(nome + '\\n')  \n",
    "arq = open('nomes.txt', 'r')\n",
    "for linha in arq:\n",
    "    print(linha)  \n",
    "arq.close()"
   ]
  },
  {
   "cell_type": "markdown",
   "id": "506b7232",
   "metadata": {},
   "source": [
    "## Questão 2"
   ]
  },
  {
   "cell_type": "code",
   "execution_count": 2,
   "id": "df518ea5",
   "metadata": {},
   "outputs": [
    {
     "name": "stdout",
     "output_type": "stream",
     "text": [
      "Erro: Arquivo inexistente!\n"
     ]
    }
   ],
   "source": [
    "try:\n",
    "    arq = open('dados.txt', 'r')\n",
    "    for linha in arq:\n",
    "        print(linha)\n",
    "    arq.close()\n",
    "except FileNotFoundError:\n",
    "    print('Erro: Arquivo inexistente!')\n",
    "except PermissionError:\n",
    "    print('Erro: O programa não tem permissão para abrir o arquivo!')"
   ]
  },
  {
   "cell_type": "markdown",
   "id": "ebdce8e1",
   "metadata": {},
   "source": [
    "## Questão 3"
   ]
  },
  {
   "cell_type": "code",
   "execution_count": 3,
   "id": "a1d337fa",
   "metadata": {},
   "outputs": [
    {
     "name": "stdout",
     "output_type": "stream",
     "text": [
      "numero total de linhas: 7\n",
      "numero total de palavras: 80\n",
      "numero total de caracteres: 413\n"
     ]
    }
   ],
   "source": [
    "arq = open('texto.txt', 'w')\n",
    "arq.write('Seu Zé: sim, fui...fui eu quem comeu o bolo - disse Zé com um tom de superioridade \\nJoana: Ah não, Zé - com os olhos lacrimejando - eu guardei pra mim da festa da Tia Lucia \\nQuando derrepente \\nPOW!!! \\nSurge Dona Eldineia com um dos pés sem o chinelo Havaiana \\nDona Eldineia: POIS VOCÊ TRATE DE COMPRAR UM BOLO PRA ELA AGORA! - aos berros \\nSeu Zé sentiu um frio nas costas e saiu correndo até a padaria da esquina.')\n",
    "arq = open('texto.txt', 'r')\n",
    "conteudo = arq.read()\n",
    "linhas = conteudo.splitlines()\n",
    "palavras = conteudo.split()\n",
    "\n",
    "num_linhas = len(linhas)\n",
    "num_palavras = len(palavras)\n",
    "num_caracteres = len(conteudo)\n",
    "\n",
    "print(f'numero total de linhas: {num_linhas}')\n",
    "print(f'numero total de palavras: {num_palavras}')\n",
    "print(f'numero total de caracteres: {num_caracteres}')\n",
    "arq.close()"
   ]
  },
  {
   "cell_type": "markdown",
   "id": "4993645b",
   "metadata": {},
   "source": [
    "## Questão 4"
   ]
  },
  {
   "cell_type": "code",
   "execution_count": 5,
   "id": "910f1abf",
   "metadata": {},
   "outputs": [
    {
     "name": "stdout",
     "output_type": "stream",
     "text": [
      "A soma total dos números é: 23\n"
     ]
    }
   ],
   "source": [
    "try:\n",
    "    arq = open('numeros.txt', 'w')\n",
    "    arq.write('3 \\n4 \\n5 \\n8 \\n3')\n",
    "    arq = open('numeros.txt', 'r')\n",
    "    soma = 0\n",
    "    for linha in arq:\n",
    "        soma += int(linha)\n",
    "    print(f'A soma total dos números é: {soma}')\n",
    "    arq.close()\n",
    "except FileNotFoundError:\n",
    "    print('Erro: Arquivo não encontrado')\n",
    "except ValueError:\n",
    "    print('Erro: Linha não pode ser convertida para número')"
   ]
  },
  {
   "cell_type": "markdown",
   "id": "62895233",
   "metadata": {},
   "source": [
    "## Questão 5"
   ]
  },
  {
   "cell_type": "code",
   "execution_count": 7,
   "id": "88e04edc",
   "metadata": {},
   "outputs": [
    {
     "data": {
      "text/plain": [
       "[<__main__.produto at 0x2a565476140>]"
      ]
     },
     "execution_count": 7,
     "metadata": {},
     "output_type": "execute_result"
    }
   ],
   "source": [
    "class produto:\n",
    "    def __init__(self, nome):\n",
    "        self.nome = nome\n",
    "    \n",
    "    def salvar(self):\n",
    "        with open('produtos.txt', 'a') as arq:\n",
    "            arq.write(self.nome + '\\n')\n",
    "    \n",
    "    def carregar_todos(self):\n",
    "        produtos = []\n",
    "        try:\n",
    "            with open('produtos.txt', 'r') as arq:\n",
    "                for linha in arq:\n",
    "                    nome = linha.strip()\n",
    "                    produtos.append(produto(nome))\n",
    "            return produtos\n",
    "        except FileNotFoundError:\n",
    "            return []\n",
    "\n",
    "produto1 = produto('lasanha')\n",
    "produto1.salvar()\n",
    "produto1.carregar_todos()"
   ]
  }
 ],
 "metadata": {
  "kernelspec": {
   "display_name": "venv",
   "language": "python",
   "name": "python3"
  },
  "language_info": {
   "codemirror_mode": {
    "name": "ipython",
    "version": 3
   },
   "file_extension": ".py",
   "mimetype": "text/x-python",
   "name": "python",
   "nbconvert_exporter": "python",
   "pygments_lexer": "ipython3",
   "version": "3.10.10"
  }
 },
 "nbformat": 4,
 "nbformat_minor": 5
}
