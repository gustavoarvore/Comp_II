{
 "cells": [
  {
   "cell_type": "markdown",
   "id": "ccc52ae8",
   "metadata": {},
   "source": [
    "# Revisão da P1\n"
   ]
  },
  {
   "cell_type": "markdown",
   "id": "f7345b74",
   "metadata": {},
   "source": [
    "### Questões de cada Lista que eu acho importante revisar "
   ]
  },
  {
   "cell_type": "markdown",
   "id": "94dc42df",
   "metadata": {},
   "source": [
    "## Lista 1\n"
   ]
  },
  {
   "cell_type": "code",
   "execution_count": null,
   "id": "b0daff6e",
   "metadata": {},
   "outputs": [
    {
     "name": "stdout",
     "output_type": "stream",
     "text": [
      "digite o item: arroz\n",
      "arroz já tem na lista\n",
      "Deseja continuar adicionando itens à lista? (s/n)s\n",
      "digite o item: banna\n",
      "['arroz', 'feijao', 'leite', 'banna']\n",
      "Deseja continuar adicionando itens à lista? (s/n)n\n",
      "None\n"
     ]
    }
   ],
   "source": [
    "#Questão 3\n",
    "\n",
    "def adiciona_item():\n",
    "\n",
    "    while True:\n",
    "\n",
    "        lista = [\"arroz\", \"feijao\", \"leite\"]\n",
    "        item = input(\"digite o item: \")\n",
    "\n",
    "        if item in lista:\n",
    "            print(f'{item} já tem na lista')\n",
    "        else:\n",
    "            lista.append(item)\n",
    "            print(lista)\n",
    "        continuar = input(\"Deseja continuar adicionando itens à lista? (s/n)\").strip().lower()\n",
    "        if continuar != 's':\n",
    "            break\n",
    "\n",
    "print(adiciona_item())"
   ]
  },
  {
   "cell_type": "code",
   "execution_count": null,
   "id": "cd12254c",
   "metadata": {},
   "outputs": [
    {
     "name": "stdout",
     "output_type": "stream",
     "text": [
      "maçã: 2\n",
      "banana: 3\n",
      "laranja: 1\n",
      "None\n"
     ]
    }
   ],
   "source": [
    "#Questão 4\n",
    "\n",
    "def contar_palavras():\n",
    "\n",
    "    lista_1 = [\"maçã\", \"banana\", \"maçã\", \"laranja\", \"banana\", \"banana\"]\n",
    "    lista_2 = []\n",
    "\n",
    "    for item in lista_1:\n",
    "        if item not in lista_2:\n",
    "            lista_2.append(item)\n",
    "            print(f'{item}: {lista_1.count(item)}')\n",
    "\n",
    "print(contar_palavras())"
   ]
  },
  {
   "cell_type": "code",
   "execution_count": null,
   "id": "a7486659",
   "metadata": {},
   "outputs": [
    {
     "name": "stdout",
     "output_type": "stream",
     "text": [
      "Digite a média: 7\n",
      "Digite a nota do estudante 1: 8\n",
      "Digite a nota do estudante 2: 5\n",
      "Digite a nota do estudante 3: 1\n",
      "Digite a nota do estudante 4: 7\n",
      "Digite a nota do estudante 5: 8\n",
      "{'aprovado': 3, 'reprovado': 2}\n"
     ]
    }
   ],
   "source": [
    "#Quesão 8\n",
    "\n",
    "def classifica_estudantes():\n",
    "\n",
    "    notas = []\n",
    "    media = float(input(\"Digite a média: \"))\n",
    "\n",
    "    for i in range(5):\n",
    "        nota = float(input(f\"Digite a nota do estudante {i+1}: \"))\n",
    "        notas.append(nota)\n",
    "\n",
    "        aprovados = []\n",
    "        reprovados = []\n",
    "\n",
    "    for i, nota in enumerate(notas):\n",
    "        if nota >= media:\n",
    "            aprovados.append(f\"Estudante {i+1} aprovado com nota {nota}\")\n",
    "        else:\n",
    "            reprovados.append(f\"Estudante {i+1} reprovado com nota {nota}\")\n",
    "    return {\n",
    "        \"aprovado\": len(aprovados),\n",
    "        \"reprovado\": len(reprovados)\n",
    "    }\n",
    "\n",
    "print(classifica_estudantes())"
   ]
  },
  {
   "cell_type": "code",
   "execution_count": null,
   "id": "aa5c5b48",
   "metadata": {},
   "outputs": [
    {
     "name": "stdout",
     "output_type": "stream",
     "text": [
      "Digite a senha: 5d64\n",
      "Senha inválida! Deve conter pelo menos 8 caracteres.\n",
      "Digite a senha: 25dfdf\n",
      "Senha inválida! Deve conter pelo menos 8 caracteres.\n",
      "Digite a senha: 485\n",
      "Senha inválida! Deve conter pelo menos 8 caracteres.\n",
      "Número de tentativas excedido.\n",
      "None\n"
     ]
    }
   ],
   "source": [
    "#Questão 10\n",
    "\n",
    "def verifica_senha():\n",
    "    tentativas = 0\n",
    "    while tentativas < 3:\n",
    "        senha = input(\"Digite a senha: \")\n",
    "        if len(senha) >= 8:\n",
    "            print(\"Senha aceita.\")\n",
    "            return\n",
    "        else:\n",
    "            print(\"Senha inválida! Deve conter pelo menos 8 caracteres.\")\n",
    "            tentativas += 1\n",
    "    print(\"Número de tentativas excedido.\")\n",
    "\n",
    "print(verifica_senha())"
   ]
  },
  {
   "cell_type": "markdown",
   "id": "11cb2baa",
   "metadata": {},
   "source": [
    "## Lista 2\n"
   ]
  },
  {
   "cell_type": "code",
   "execution_count": null,
   "id": "1a3b2544",
   "metadata": {},
   "outputs": [
    {
     "name": "stdout",
     "output_type": "stream",
     "text": [
      "O quarto de Solteiro, número 45, está disponível\n",
      "O quarto de Solteiro, número 45, já disponível!\n",
      "O quarto de Solteiro, número 45, está Disponível\n",
      "\n",
      "O quarto de Casal, número 76, está disponível\n",
      "O quarto de Casal, número 76, já disponível!\n",
      "O quarto de Casal, número 76, está Disponível\n",
      "\n"
     ]
    }
   ],
   "source": [
    "#Questão Reserva de Hotel\n",
    "\n",
    "class quartohotel:\n",
    "    def __init__(self, numero:int, tipo:str):\n",
    "        self.numero = numero\n",
    "        self.tipo = tipo\n",
    "        self.ocupado = False\n",
    "\n",
    "\n",
    "    def reservar(self):\n",
    "        if self.ocupado:\n",
    "            self.ocupado = True\n",
    "            print(f\"Desculpe, mas o quarto de {self.tipo}, número {self.numero}, está Ocupado!\")\n",
    "        else:\n",
    "            print(f\"O quarto de {self.tipo}, número {self.numero}, está disponível\")\n",
    "\n",
    "    def liberar(self):\n",
    "        if self.ocupado:\n",
    "            self.ocupado = False\n",
    "            print(f\"O quarto de {self.tipo}, número {self.numero}, estará disponível em breve!\")\n",
    "        else:\n",
    "            print(f'O quarto de {self.tipo}, número {self.numero}, já disponível!')\n",
    "\n",
    "    def status(self):\n",
    "        status = \"Ocupado\" if self.ocupado else \"Disponível\"\n",
    "        print(f'O quarto de {self.tipo}, número {self.numero}, está {status}\\n')\n",
    "\n",
    "quartohotel_1 = quartohotel(45, \"Solteiro\")\n",
    "quartohotel_1.reservar()\n",
    "quartohotel_1.liberar()\n",
    "quartohotel_1.status()\n",
    "\n",
    "quartohotel_2 = quartohotel(76, \"Casal\")\n",
    "quartohotel_2.reservar()\n",
    "quartohotel_2.liberar()\n",
    "quartohotel_2.status()"
   ]
  },
  {
   "cell_type": "code",
   "execution_count": null,
   "id": "43ea92c8",
   "metadata": {},
   "outputs": [
    {
     "name": "stdout",
     "output_type": "stream",
     "text": [
      "Cliente: Gustavo\n",
      " Lista de Itens: ['banana', 'cebola']\n",
      " Valor Total: 8.35\n",
      "Cliente: Gustavo\n",
      " Lista de Itens: ['banana']\n",
      " Valor Total: 6.0\n"
     ]
    }
   ],
   "source": [
    "#Questão Gerenciador de Pedidos de Restaurante\n",
    "\n",
    "class pedido:\n",
    "    def __init__(self, cliente:str):\n",
    "        self.cliente = cliente\n",
    "        self.itens = []\n",
    "        self.total = 0.00\n",
    "\n",
    "    def adicionar_item(self, item, preço):\n",
    "        self.itens.append(item)\n",
    "        self.total += preço\n",
    "\n",
    "    def remover_item(self, item, preço):\n",
    "        if item in self.itens:\n",
    "            self.itens.remove(item)\n",
    "            self.total -= preço\n",
    "\n",
    "    def resumo(self):\n",
    "        itens_str = ','.join(self.itens)\n",
    "        print(f'Cliente: {self.cliente}\\n Lista de Itens: {self.itens}\\n Valor Total: {self.total}')\n",
    "\n",
    "pedido1 = pedido(\"Gustavo\")\n",
    "pedido1.adicionar_item(\"banana\", 6.00)\n",
    "pedido1.adicionar_item(\"cebola\", 2.35)\n",
    "pedido1.resumo()\n",
    "pedido1.remover_item('cebola',2.35)\n",
    "pedido1.resumo()"
   ]
  },
  {
   "cell_type": "markdown",
   "id": "38955015",
   "metadata": {},
   "source": [
    "## Lista 3\n"
   ]
  },
  {
   "cell_type": "code",
   "execution_count": null,
   "id": "0eb9f61b",
   "metadata": {},
   "outputs": [
    {
     "name": "stdout",
     "output_type": "stream",
     "text": [
      "Pedido Nº: 101\n",
      "Itens:\n",
      "- Hamburguer: R$20.00\n",
      "- Refrigerante: R$5.00\n",
      "Total: R$25.00\n",
      "\n",
      "Pedido Delivery Nº: 102\n",
      "Itens:\n",
      "- Pizza: R$35.00\n",
      "- Suco: R$7.00\n",
      "Taxa de entrega: R$8.00\n",
      "Total com entrega: R$50.00\n"
     ]
    }
   ],
   "source": [
    "class pedido:\n",
    "    def __init__(self, numero_pedido:int):\n",
    "        self.numero_pedido = numero_pedido\n",
    "        self.itens = []\n",
    "\n",
    "    def adicionar_item(self, nome:str, preco:float):\n",
    "        self.itens.append({'nome': nome, 'preco': preco})\n",
    "\n",
    "    def calcular_total(self):\n",
    "        return sum(\n",
    "            item['preco'] \n",
    "            for item in self.itens\n",
    "        )\n",
    "\n",
    "    def exibir_pedido(self):\n",
    "        print(f\"Pedido Nº: {self.numero_pedido}\")\n",
    "        print(\"Itens:\")\n",
    "        \n",
    "        for item in self.itens:\n",
    "            print(f\"- {item['nome']}: R${item['preco']:.2f}\")\n",
    "        print(f\"Total: R${self.calcular_total():.2f}\\n\")\n",
    "\n",
    "\n",
    "class pedidodelivery(pedido):\n",
    "    def __init__(self, numero_pedido, taxa_entrega):\n",
    "        super().__init__(numero_pedido)\n",
    "        self.taxa_entrega = taxa_entrega\n",
    "\n",
    "    def calcular_total_com_entrega(self):\n",
    "        return self.calcular_total() + self.taxa_entrega\n",
    "\n",
    "    def exibir_pedido(self):\n",
    "        print(f\"Pedido Delivery Nº: {self.numero_pedido}\")\n",
    "        print(\"Itens:\")\n",
    "        \n",
    "        for item in self.itens:\n",
    "            print(f\"- {item['nome']}: R${item['preco']:.2f}\")\n",
    "        print(f\"Taxa de entrega: R${self.taxa_entrega:.2f}\")\n",
    "        print(f\"Total com entrega: R${self.calcular_total_com_entrega():.2f}\")\n",
    "\n",
    "pedido1 = pedido(101)\n",
    "pedido1.adicionar_item(\"Hamburguer\", 20.0)\n",
    "pedido1.adicionar_item(\"Refrigerante\", 5.0)\n",
    "pedido1.exibir_pedido()\n",
    "\n",
    "pedido2 = pedidodelivery(102, taxa_entrega=8.0)\n",
    "pedido2.adicionar_item(\"Pizza\", 35.0)\n",
    "pedido2.adicionar_item(\"Suco\", 7.0)\n",
    "pedido2.exibir_pedido()"
   ]
  },
  {
   "cell_type": "code",
   "execution_count": null,
   "id": "cffefe41",
   "metadata": {},
   "outputs": [
    {
     "name": "stdout",
     "output_type": "stream",
     "text": [
      "Nome: Sara\n",
      "Salario: R$7000.00\n",
      "\n",
      "Nome: Gustavo\n",
      "Salario por Hora: R$5400.00\n"
     ]
    }
   ],
   "source": [
    "class funcionario:\n",
    "    def __init__(self, nome:str, salario_base:float):\n",
    "        self.nome = nome\n",
    "        self.salario_base = salario_base\n",
    "\n",
    "    def calcular_pagamento(self):\n",
    "        return self.salario_base\n",
    "\n",
    "    def exibir_detalhes(self):\n",
    "        print(f\"Nome: {self.nome}\")\n",
    "        print(f\"Salario: R${self.calcular_pagamento():.2f}\\n\")\n",
    "\n",
    "\n",
    "class funcionariohorista(funcionario):\n",
    "    def __init__(self, nome, valor_hora, horas_trabalhadas):\n",
    "        super().__init__(nome, salario_base=0)\n",
    "        self.valor_hora = valor_hora\n",
    "        self.horas_trabalhadas = horas_trabalhadas\n",
    "\n",
    "    def calcular_pagamento(self):\n",
    "        return self.valor_hora * self.horas_trabalhadas\n",
    "\n",
    "    def exibir_detalhes(self):\n",
    "        print(f\"Nome: {self.nome}\")\n",
    "        print(f\"Salario por Hora: R${self.calcular_pagamento():.2f}\")\n",
    "\n",
    "funcionario1 = funcionario(\"Sara\", 7000.0)\n",
    "funcionario1.exibir_detalhes()\n",
    "\n",
    "funcionariohorista1 = funcionariohorista(\"Gustavo\", valor_hora=45.0, horas_trabalhadas=120)\n",
    "funcionariohorista1.exibir_detalhes()"
   ]
  },
  {
   "cell_type": "markdown",
   "id": "b1b79f34",
   "metadata": {},
   "source": [
    "## Lista 4\n"
   ]
  },
  {
   "cell_type": "code",
   "execution_count": null,
   "id": "d8a26db9",
   "metadata": {},
   "outputs": [],
   "source": [
    "from abc import ABC, abstractmethod\n",
    "# import numpy as np\n",
    "\n",
    "# 1. Classe Abstrata Pessoa\n",
    "class pessoa(ABC):\n",
    "    def __init__(self, nome, idade, endereco):\n",
    "        self.nome = nome\n",
    "        self.idade = idade\n",
    "        self.endereco = endereco\n",
    "\n",
    "    def set_endereco(self, novo_endereco):\n",
    "        self.endereco = novo_endereco\n",
    "\n",
    "    def aniversario(self):\n",
    "        self.idade += 1\n",
    "\n",
    "    @abstractmethod\n",
    "    def get_id(self):\n",
    "        pass\n",
    "\n",
    "    def __eq__(self, other):\n",
    "        return self.get_id() == other.get_id()\n",
    "\n",
    "\n",
    "# 2. Subclasse PessoaFisica\n",
    "class pessoafisica(pessoa):\n",
    "    def __init__(self, nome, idade, endereco, cpf, estado_civil):\n",
    "        super().__init__(nome, idade, endereco)\n",
    "        self.cpf = cpf\n",
    "        self.estado_civil = estado_civil\n",
    "\n",
    "    def set_estado_civil(self, novo_estado):\n",
    "        self.estado_civil = novo_estado\n",
    "\n",
    "    def get_id(self):\n",
    "        return self.cpf\n",
    "\n",
    "    def __lt__(self, other):\n",
    "        return self.idade < other.idade\n",
    "\n",
    "\n",
    "# 3. Subclasse Empregado\n",
    "class empregado(pessoafisica):\n",
    "    def __init__(self, nome, idade, endereco, cpf, estado_civil, salario):\n",
    "        super().__init__(nome, idade, endereco, cpf, estado_civil)\n",
    "        self.salario = salario\n",
    "\n",
    "    def aumentar_salario(self, valor):\n",
    "        self.salario += valor\n",
    "\n",
    "    def total_anual(self):\n",
    "        return self.salario * 12\n",
    "\n",
    "    def __add__(self, other):\n",
    "        return self.salario + other.salario\n",
    "\n",
    "\n",
    "# Classe PessoaJuridica (já dada no enunciado)\n",
    "class pessoajuridica(pessoa):\n",
    "    def __init__(self, nome, idade, endereco, cnpj):\n",
    "        super().__init__(nome, idade, endereco)\n",
    "        self.cnpj = cnpj\n",
    "\n",
    "    def get_id(self):\n",
    "        return self.cnpj\n",
    "\n",
    "\n",
    "# 4. Classe Empresa\n",
    "class empresa(pessoajuridica):\n",
    "    def __init__(self, nome, idade, endereco, cnpj):\n",
    "        super().__init__(nome, idade, endereco, cnpj)\n",
    "        self.empregados = []\n",
    "\n",
    "    def contratar(self, empregado):\n",
    "        if empregado not in self.empregados:\n",
    "            self.empregados.append(empregado)\n",
    "\n",
    "    def demitir(self, empregado):\n",
    "        if empregado in self.empregados:\n",
    "            self.empregados.remove(empregado)\n",
    "\n",
    "    def __len__(self):\n",
    "        return len(self.empregados)\n",
    "\n",
    "\n",
    "empregado1 = empregado(\"Joao\", 30, \"Rua A\", \"123\", \"Solteiro\", 3000)\n",
    "empregado2 = empregado(\"Maria\", 40, \"Rua B\", \"456\", \"Casado\", 4000)\n",
    "empregado3 = empregado(\"Carlos\", 28, \"Rua C\", \"123\", \"Solteiro\", 3200)  \n",
    "\n",
    "print(empregado1 == empregado2)  \n",
    "print(empregado1 == empregado3)  \n",
    "\n",
    "print(empregado3 < empregado1)  \n",
    "print(empregado2 < empregado1)  \n",
    "\n",
    "total_salarios = empregado1 + empregado2\n",
    "print(\"Soma dos salários:\", total_salarios) \n",
    "\n",
    "empregado1.aumentar_salario(500)\n",
    "print(\"Novo salário mensal:\", empregado1.salario)  \n",
    "print(\"Salário anual:\", empregado1.total_anual())  \n",
    "\n",
    "empresa1 = empresa(\"Empresa X\", 10, \"Av. Central\", \"00.000.000/0001-00\")\n",
    "\n",
    "print(\"Empregados na empresa:\", len(empresa1)) \n",
    "empresa1.contratar(empregado1)\n",
    "empresa1.contratar(empregado2)\n",
    "empresa1.contratar(empregado1)  \n",
    "print(\"Empregados na empresa:\", len(empresa1)) \n",
    "\n",
    "empresa1.demitir(empregado3) \n",
    "empresa1.demitir(empregado2)\n",
    "print(\"Empregados na empresa:\", len(empresa1)) \n",
    "\n",
    "empresa1.contratar(empregado3)\n",
    "print(\"Empregados na empresa:\", len(empresa1)) "
   ]
  }
 ],
 "metadata": {
  "language_info": {
   "name": "python"
  }
 },
 "nbformat": 4,
 "nbformat_minor": 5
}
